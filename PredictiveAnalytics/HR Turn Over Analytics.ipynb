{
 "cells": [
  {
   "cell_type": "markdown",
   "id": "f50e7d65",
   "metadata": {},
   "source": [
    "# HR Turn Over Analytics"
   ]
  },
  {
   "cell_type": "markdown",
   "id": "2de3c2c1",
   "metadata": {},
   "source": [
    "## Data Diri\n",
    "Nama Lengkap: Kresna Devara"
   ]
  },
  {
   "cell_type": "markdown",
   "id": "f3e67f14",
   "metadata": {},
   "source": [
    "## Import Library"
   ]
  },
  {
   "cell_type": "code",
   "execution_count": 87,
   "id": "f2d7da5f",
   "metadata": {},
   "outputs": [],
   "source": [
    "import pandas as pd\n",
    "import numpy as np\n",
    "from sklearn.model_selection import train_test_split\n",
    "from sklearn.preprocessing import StandardScaler\n",
    "from sklearn.svm import SVC\n",
    "from sklearn.neighbors import KNeighborsClassifier\n",
    "from sklearn.ensemble import RandomForestClassifier\n",
    "from sklearn.metrics import f1_score\n",
    "from sklearn.model_selection import GridSearchCV\n",
    "from sklearn import metrics\n",
    "from tqdm.notebook import tqdm\n",
    "import matplotlib.pyplot as plt\n",
    "%matplotlib inline\n",
    "import seaborn as sns"
   ]
  },
  {
   "cell_type": "markdown",
   "id": "b92b9fec",
   "metadata": {},
   "source": [
    "## Import Data"
   ]
  },
  {
   "cell_type": "code",
   "execution_count": 88,
   "id": "39862da6",
   "metadata": {},
   "outputs": [
    {
     "data": {
      "text/html": [
       "<div>\n",
       "<style scoped>\n",
       "    .dataframe tbody tr th:only-of-type {\n",
       "        vertical-align: middle;\n",
       "    }\n",
       "\n",
       "    .dataframe tbody tr th {\n",
       "        vertical-align: top;\n",
       "    }\n",
       "\n",
       "    .dataframe thead th {\n",
       "        text-align: right;\n",
       "    }\n",
       "</style>\n",
       "<table border=\"1\" class=\"dataframe\">\n",
       "  <thead>\n",
       "    <tr style=\"text-align: right;\">\n",
       "      <th></th>\n",
       "      <th>satisfaction_level</th>\n",
       "      <th>last_evaluation</th>\n",
       "      <th>number_project</th>\n",
       "      <th>average_montly_hours</th>\n",
       "      <th>time_spend_company</th>\n",
       "      <th>Work_accident</th>\n",
       "      <th>left</th>\n",
       "      <th>promotion_last_5years</th>\n",
       "      <th>Department</th>\n",
       "      <th>salary</th>\n",
       "    </tr>\n",
       "  </thead>\n",
       "  <tbody>\n",
       "    <tr>\n",
       "      <th>0</th>\n",
       "      <td>0.38</td>\n",
       "      <td>0.53</td>\n",
       "      <td>2</td>\n",
       "      <td>157</td>\n",
       "      <td>3</td>\n",
       "      <td>0</td>\n",
       "      <td>1</td>\n",
       "      <td>0</td>\n",
       "      <td>sales</td>\n",
       "      <td>low</td>\n",
       "    </tr>\n",
       "    <tr>\n",
       "      <th>1</th>\n",
       "      <td>0.80</td>\n",
       "      <td>0.86</td>\n",
       "      <td>5</td>\n",
       "      <td>262</td>\n",
       "      <td>6</td>\n",
       "      <td>0</td>\n",
       "      <td>1</td>\n",
       "      <td>0</td>\n",
       "      <td>sales</td>\n",
       "      <td>medium</td>\n",
       "    </tr>\n",
       "    <tr>\n",
       "      <th>2</th>\n",
       "      <td>0.11</td>\n",
       "      <td>0.88</td>\n",
       "      <td>7</td>\n",
       "      <td>272</td>\n",
       "      <td>4</td>\n",
       "      <td>0</td>\n",
       "      <td>1</td>\n",
       "      <td>0</td>\n",
       "      <td>sales</td>\n",
       "      <td>medium</td>\n",
       "    </tr>\n",
       "    <tr>\n",
       "      <th>3</th>\n",
       "      <td>0.72</td>\n",
       "      <td>0.87</td>\n",
       "      <td>5</td>\n",
       "      <td>223</td>\n",
       "      <td>5</td>\n",
       "      <td>0</td>\n",
       "      <td>1</td>\n",
       "      <td>0</td>\n",
       "      <td>sales</td>\n",
       "      <td>low</td>\n",
       "    </tr>\n",
       "    <tr>\n",
       "      <th>4</th>\n",
       "      <td>0.37</td>\n",
       "      <td>0.52</td>\n",
       "      <td>2</td>\n",
       "      <td>159</td>\n",
       "      <td>3</td>\n",
       "      <td>0</td>\n",
       "      <td>1</td>\n",
       "      <td>0</td>\n",
       "      <td>sales</td>\n",
       "      <td>low</td>\n",
       "    </tr>\n",
       "  </tbody>\n",
       "</table>\n",
       "</div>"
      ],
      "text/plain": [
       "   satisfaction_level  last_evaluation  number_project  average_montly_hours  \\\n",
       "0                0.38             0.53               2                   157   \n",
       "1                0.80             0.86               5                   262   \n",
       "2                0.11             0.88               7                   272   \n",
       "3                0.72             0.87               5                   223   \n",
       "4                0.37             0.52               2                   159   \n",
       "\n",
       "   time_spend_company  Work_accident  left  promotion_last_5years Department  \\\n",
       "0                   3              0     1                      0      sales   \n",
       "1                   6              0     1                      0      sales   \n",
       "2                   4              0     1                      0      sales   \n",
       "3                   5              0     1                      0      sales   \n",
       "4                   3              0     1                      0      sales   \n",
       "\n",
       "   salary  \n",
       "0     low  \n",
       "1  medium  \n",
       "2  medium  \n",
       "3     low  \n",
       "4     low  "
      ]
     },
     "execution_count": 88,
     "metadata": {},
     "output_type": "execute_result"
    }
   ],
   "source": [
    "df = pd.read_csv('HR_Analytics.csv')\n",
    "df.head()"
   ]
  },
  {
   "cell_type": "markdown",
   "id": "034955f8",
   "metadata": {},
   "source": [
    "## Exploratory Data Analysis"
   ]
  },
  {
   "cell_type": "markdown",
   "id": "7cbdd274",
   "metadata": {},
   "source": [
    "### Deskripsi dan Check Data"
   ]
  },
  {
   "cell_type": "markdown",
   "id": "5b9c3b59",
   "metadata": {},
   "source": [
    "**Penjelasan Data**\n",
    "***\n",
    "- satisfaction_level: Angka kepuasan yang dibeirkan karyawan (0-1)\n",
    "- last_evaluation: Angka penilaian dari manager (0-1)\n",
    "- number_project: Jumlah projek yang pernah dikerjakan karyawan\n",
    "- average_monthly_hours: Total jam kerja per bulan\n",
    "- time_spend_company: Total masa kerja dalam tahun\n",
    "- Work_accident: Dummy variable terjadinya kecelakaan: Ya (1), Tidak (0)\n",
    "- left: Dummy variable: Keluar (1), Tetap (0)\n",
    "- promoted_last_5years: Dummy variable, Dipromosikan (1), Tidak dipromosikan(0)\n",
    "- sales: Nama department (sales,technical,support,IT, product,marketing, other)\n",
    "- salary: 3-level kategori sallary (low, medium, high)"
   ]
  },
  {
   "cell_type": "markdown",
   "id": "10ac17ff",
   "metadata": {},
   "source": [
    "**Data Check**\n",
    "***"
   ]
  },
  {
   "cell_type": "code",
   "execution_count": 107,
   "id": "6d717a7b",
   "metadata": {},
   "outputs": [
    {
     "name": "stdout",
     "output_type": "stream",
     "text": [
      "<class 'pandas.core.frame.DataFrame'>\n",
      "RangeIndex: 14999 entries, 0 to 14998\n",
      "Data columns (total 10 columns):\n",
      " #   Column                 Non-Null Count  Dtype  \n",
      "---  ------                 --------------  -----  \n",
      " 0   satisfaction_level     14999 non-null  float64\n",
      " 1   last_evaluation        14999 non-null  float64\n",
      " 2   number_project         14999 non-null  int64  \n",
      " 3   average_montly_hours   14999 non-null  int64  \n",
      " 4   time_spend_company     14999 non-null  int64  \n",
      " 5   Work_accident          14999 non-null  int64  \n",
      " 6   left                   14999 non-null  int64  \n",
      " 7   promotion_last_5years  14999 non-null  int64  \n",
      " 8   Department             14999 non-null  object \n",
      " 9   salary                 14999 non-null  object \n",
      "dtypes: float64(2), int64(6), object(2)\n",
      "memory usage: 1.1+ MB\n"
     ]
    }
   ],
   "source": [
    "df.info()"
   ]
  },
  {
   "cell_type": "code",
   "execution_count": 108,
   "id": "87276194",
   "metadata": {},
   "outputs": [
    {
     "data": {
      "text/plain": [
       "satisfaction_level        92\n",
       "last_evaluation           65\n",
       "number_project             6\n",
       "average_montly_hours     215\n",
       "time_spend_company         8\n",
       "Work_accident              2\n",
       "left                       2\n",
       "promotion_last_5years      2\n",
       "Department                10\n",
       "salary                     3\n",
       "dtype: int64"
      ]
     },
     "execution_count": 108,
     "metadata": {},
     "output_type": "execute_result"
    }
   ],
   "source": [
    "df.nunique()"
   ]
  },
  {
   "cell_type": "code",
   "execution_count": 4,
   "id": "154f266a",
   "metadata": {},
   "outputs": [
    {
     "name": "stdout",
     "output_type": "stream",
     "text": [
      "Total Null data: 0\n",
      "Total NA data: 0\n"
     ]
    }
   ],
   "source": [
    "print(\"Total Null data: \" + str(df.isnull().sum().sum()))\n",
    "print(\"Total NA data: \" + str(df.isna().sum().sum()))"
   ]
  },
  {
   "cell_type": "markdown",
   "id": "e8f5961c",
   "metadata": {},
   "source": [
    "Tidak ada data yang kosong"
   ]
  },
  {
   "cell_type": "code",
   "execution_count": 109,
   "id": "12f12749",
   "metadata": {},
   "outputs": [
    {
     "data": {
      "text/plain": [
       "'|       |   satisfaction_level |   last_evaluation |   number_project |   average_montly_hours |   time_spend_company |   Work_accident |         left |   promotion_last_5years |\\n|:------|---------------------:|------------------:|-----------------:|-----------------------:|---------------------:|----------------:|-------------:|------------------------:|\\n| count |         14999        |      14999        |      14999       |             14999      |          14999       |    14999        | 14999        |           14999         |\\n| mean  |             0.612834 |          0.716102 |          3.80305 |               201.05   |              3.49823 |        0.14461  |     0.238083 |               0.0212681 |\\n| std   |             0.248631 |          0.171169 |          1.23259 |                49.9431 |              1.46014 |        0.351719 |     0.425924 |               0.144281  |\\n| min   |             0.09     |          0.36     |          2       |                96      |              2       |        0        |     0        |               0         |\\n| 25%   |             0.44     |          0.56     |          3       |               156      |              3       |        0        |     0        |               0         |\\n| 50%   |             0.64     |          0.72     |          4       |               200      |              3       |        0        |     0        |               0         |\\n| 75%   |             0.82     |          0.87     |          5       |               245      |              4       |        0        |     0        |               0         |\\n| max   |             1        |          1        |          7       |               310      |             10       |        1        |     1        |               1         |'"
      ]
     },
     "execution_count": 109,
     "metadata": {},
     "output_type": "execute_result"
    }
   ],
   "source": [
    "df.describe().to_markdown()"
   ]
  },
  {
   "cell_type": "markdown",
   "id": "7a50bb84",
   "metadata": {},
   "source": [
    "### Check Outlier"
   ]
  },
  {
   "cell_type": "markdown",
   "id": "39800e45",
   "metadata": {},
   "source": [
    "Data numerik pada dataset hanyalah: \n",
    "- satisfaction_level\n",
    "- last_evaluation\n",
    "- number_project\n",
    "- average_montly_hours\n",
    "- time_spend_company \n",
    "\n",
    "Sehingga hanya data tersebut saja yang akan dilakukan pengecekan\n"
   ]
  },
  {
   "cell_type": "code",
   "execution_count": 6,
   "id": "be903f61",
   "metadata": {},
   "outputs": [],
   "source": [
    "numeric_columns = ['satisfaction_level', 'last_evaluation', 'number_project', \n",
    "                   'average_montly_hours', 'time_spend_company']"
   ]
  },
  {
   "cell_type": "code",
   "execution_count": 7,
   "id": "853d1d4b",
   "metadata": {},
   "outputs": [
    {
     "data": {
      "image/png": "[encoded data removed]",
      "text/plain": [
       "<Figure size 1296x864 with 5 Axes>"
      ]
     },
     "metadata": {
      "needs_background": "light"
     },
     "output_type": "display_data"
    }
   ],
   "source": [
    "plt.figure(figsize=(18, 12))\n",
    "for i, column in enumerate(numeric_columns):\n",
    "    plt.subplot(3, 2, i+1)\n",
    "    plt.subplots_adjust(hspace=0.5)\n",
    "    sns.boxplot(x=df[column])"
   ]
  },
  {
   "cell_type": "markdown",
   "id": "aa4a88bb",
   "metadata": {},
   "source": [
    "Dari data di atas hanya `time_spend_company` saja yang memiliki __outliers__ walaupun datanya sedikit, namun data lamanya tahun pada perusahaan sangatlah berpengaruh terhadap keputusan pergi atau tidaknya karyawan dari suatu perusahaan, sehingga data `time_spend_company` ___tidak dibuang___"
   ]
  },
  {
   "cell_type": "markdown",
   "id": "11e39ae7",
   "metadata": {},
   "source": [
    "### Univariate Analysis"
   ]
  },
  {
   "cell_type": "markdown",
   "id": "f721a848",
   "metadata": {},
   "source": [
    "Sebelumnya telah diketahui column yang beriskan data numerik, sehingga sisanya adalah data kategori:\n",
    "- Work_accident\n",
    "- promoted_last_5_years\n",
    "- sales\n",
    "- salary\n",
    "\n",
    "Pada bagian ini kita akan melihat analisa setiap kolomnya baik itu kategori ataupun numerik"
   ]
  },
  {
   "cell_type": "code",
   "execution_count": 8,
   "id": "cbbb0c54",
   "metadata": {},
   "outputs": [],
   "source": [
    "category_columns = [p for p in df.columns if p not in numeric_columns]"
   ]
  },
  {
   "cell_type": "markdown",
   "id": "2eb057d2",
   "metadata": {},
   "source": [
    "#### Analisa Kolom Kategori"
   ]
  },
  {
   "cell_type": "code",
   "execution_count": 9,
   "id": "63f5c6a5",
   "metadata": {
    "scrolled": false
   },
   "outputs": [
    {
     "data": {
      "image/png": "[encoded data removed]",
      "text/plain": [
       "<Figure size 1296x864 with 5 Axes>"
      ]
     },
     "metadata": {
      "needs_background": "light"
     },
     "output_type": "display_data"
    }
   ],
   "source": [
    "# fitur cut\n",
    "plt.figure(figsize=(18, 12))\n",
    "for i, col in enumerate(category_columns):\n",
    "    plt.subplot(3, 2, i + 1)\n",
    "    plt.subplots_adjust(hspace=0.5)\n",
    "    count = df[col].value_counts()\n",
    "    percent = 100*df[col].value_counts(normalize=True)\n",
    "    df_plt = pd.DataFrame({'Jumlah Sample':count, 'Persentase':percent.round(1)})\n",
    "    count.plot(rot=45, kind='bar', title=col)    "
   ]
  },
  {
   "cell_type": "markdown",
   "id": "0be886f2",
   "metadata": {},
   "source": [
    "__Analisa Univariate analyis kolom kategori__\n",
    "***\n",
    "1. Jumlah data karywan yang tidak mengalami work accident lebih banyak dan tidak seimbang (imbalance)\n",
    "2. Karyawan yang meninggalkan perusahaan lebih sediki dibanding yang tetap tinggal (imbalance)\n",
    "3. Jumlah karyawan yang belum dipromosikan leibh banyak dan tidak seimbang\n",
    "4. Departemen **sales** memiliki karyawan yang paling banyak\n",
    "5. Karyawan dengan kategori tinggi memiliki jumlah paling rendah"
   ]
  },
  {
   "cell_type": "markdown",
   "id": "9667da26",
   "metadata": {},
   "source": [
    "#### Analisa Kolom Numerik"
   ]
  },
  {
   "cell_type": "code",
   "execution_count": 10,
   "id": "f152b654",
   "metadata": {},
   "outputs": [
    {
     "data": {
      "image/png": "[encoded data removed]",
      "text/plain": [
       "<Figure size 1440x1080 with 6 Axes>"
      ]
     },
     "metadata": {
      "needs_background": "light"
     },
     "output_type": "display_data"
    }
   ],
   "source": [
    "df[numeric_columns].hist(bins=20, figsize=(20,15))\n",
    "plt.show()"
   ]
  },
  {
   "cell_type": "markdown",
   "id": "2ce603bc",
   "metadata": {},
   "source": [
    "__Analisa Univariate analyis kolom Numerik (Hanya yang Meninggalkan Perusahaan)__\n",
    "***\n",
    "1. Satisfication level, Last Evaluation, Number Project, danAvarage Montly hours karyawan beragam\n",
    "2. Jumlah karyawan dengan jumlah tahun kerja 3 tahun paling dominan"
   ]
  },
  {
   "cell_type": "markdown",
   "id": "2ea514ef",
   "metadata": {},
   "source": [
    "### Multivariate Analysis"
   ]
  },
  {
   "cell_type": "markdown",
   "id": "7fb17d71",
   "metadata": {},
   "source": [
    "Pada analisa ini variable `left` akan ikut disertakan sebagai variable kedua"
   ]
  },
  {
   "cell_type": "code",
   "execution_count": 11,
   "id": "b2ec00de",
   "metadata": {},
   "outputs": [],
   "source": [
    "category_columns.remove('left')"
   ]
  },
  {
   "cell_type": "markdown",
   "id": "982bb80f",
   "metadata": {},
   "source": [
    "#### Analisa Kolom Kategori "
   ]
  },
  {
   "cell_type": "code",
   "execution_count": 118,
   "id": "9c0c0f47",
   "metadata": {},
   "outputs": [
    {
     "data": {
      "image/png": "[encoded data removed]",
      "text/plain": [
       "<Figure size 864x288 with 1 Axes>"
      ]
     },
     "metadata": {
      "needs_background": "light"
     },
     "output_type": "display_data"
    },
    {
     "data": {
      "image/png": "[encoded data removed]",
      "text/plain": [
       "<Figure size 864x288 with 1 Axes>"
      ]
     },
     "metadata": {
      "needs_background": "light"
     },
     "output_type": "display_data"
    },
    {
     "data": {
      "image/png": "[encoded data removed]",
      "text/plain": [
       "<Figure size 864x288 with 1 Axes>"
      ]
     },
     "metadata": {
      "needs_background": "light"
     },
     "output_type": "display_data"
    },
    {
     "data": {
      "image/png": "[encoded data removed]",
      "text/plain": [
       "<Figure size 864x288 with 1 Axes>"
      ]
     },
     "metadata": {
      "needs_background": "light"
     },
     "output_type": "display_data"
    }
   ],
   "source": [
    "for i, column in enumerate(category_columns):\n",
    "    df_plt = pd.DataFrame()\n",
    "\n",
    "    df_plt['Left'] = df[df['left'] == 1][column].value_counts()\n",
    "    df_plt['Stay'] = df[df['left'] == 0][column].value_counts()\n",
    "    \n",
    "    df_plt.plot.bar(rot=0, title = '{} and Left Company'.format(column), figsize=(12, 4))"
   ]
  },
  {
   "cell_type": "markdown",
   "id": "dfd78319",
   "metadata": {},
   "source": [
    "__Analisa Multivariate analyis kolom kategori__\n",
    "***\n",
    "1. Jumlah data karywan yang pergi dan stay di perusahaan tidak seimbang (imbalance dataset)\n",
    "2. Karyawan yang **belum** pernah mengalami work accident lebih banyak meninggalkan perusahaan\n",
    "3. Karyawan yang **belum** dipromosikan dalam 5 tahun terakhir lebih banyak meninggalkan perusahaan\n",
    "4. Departemen **sales** memiliki karyawan yang paling banyak meninggalkan perusahaan\n",
    "5. Karyawan dengan gaji kategori **rendah** paling banyak meninggalkan karyawan"
   ]
  },
  {
   "cell_type": "markdown",
   "id": "977dde61",
   "metadata": {},
   "source": [
    "#### Analisa Kolom Numerik (Hanya yang Meninggalkan Perusahaan)"
   ]
  },
  {
   "cell_type": "code",
   "execution_count": 13,
   "id": "c6ee2fc9",
   "metadata": {},
   "outputs": [
    {
     "data": {
      "image/png": "[encoded data removed]",
      "text/plain": [
       "<Figure size 1440x1080 with 6 Axes>"
      ]
     },
     "metadata": {
      "needs_background": "light"
     },
     "output_type": "display_data"
    }
   ],
   "source": [
    "df[df['left'] == 1][numeric_columns].hist(figsize=(20,15))\n",
    "plt.show()"
   ]
  },
  {
   "cell_type": "markdown",
   "id": "b6bc189a",
   "metadata": {},
   "source": [
    "__Analisa Multivariate analyis kolom Numerik (Hanya yang Meninggalkan Perusahaan)__\n",
    "***\n",
    "1. Karyawan yang pergi meninggalkan perusahaan adalah karyawan dengan satisfication level rendah (0.1) dan menengah  (0.4)\n",
    "2. Karyawan dengan penilain buruk (<0.5) dan penilaian baik (>0.8) sama-sama pergi dari perusahaan\n",
    "3. Karyawan dengan jumlah projek **terendah (2)** pergi meninggalkan perusahaan\n",
    "4. Karyawan dengan jumlah jam paling sedikit setiap bulannya (<160 jam) paling banyak pergi meninggalkan perusahaan\n",
    "5. Karyawan dengan waktu bersama perusahaan **3 tahun** paling banyak meninggalkan perusahaan"
   ]
  },
  {
   "cell_type": "markdown",
   "id": "0309b8e4",
   "metadata": {},
   "source": [
    "#### Korelasi Matrix Untuk Fitur"
   ]
  },
  {
   "cell_type": "code",
   "execution_count": 14,
   "id": "bba02104",
   "metadata": {},
   "outputs": [
    {
     "data": {
      "text/plain": [
       "Text(0.5, 1.0, 'Correlation Matrix untuk Fitur')"
      ]
     },
     "execution_count": 14,
     "metadata": {},
     "output_type": "execute_result"
    },
    {
     "data": {
      "image/png": "[encoded data removed]",
      "text/plain": [
       "<Figure size 720x576 with 2 Axes>"
      ]
     },
     "metadata": {
      "needs_background": "light"
     },
     "output_type": "display_data"
    }
   ],
   "source": [
    "plt.figure(figsize=(10, 8))\n",
    "correlation_matrix = df.corr().round(2)\n",
    "\n",
    "sns.heatmap(data=correlation_matrix, annot=True, cmap='coolwarm', linewidths=0.5)\n",
    "plt.title(\"Correlation Matrix untuk Fitur\", size=20)"
   ]
  },
  {
   "cell_type": "markdown",
   "id": "c8d682a4",
   "metadata": {},
   "source": [
    "Terlihat dari correlation matrix, bahwa **satisfication level** merupakan fitur yang paling memiliki korelasi dengan perginya karyawan dari perusahaan"
   ]
  },
  {
   "cell_type": "markdown",
   "id": "5e54ae66",
   "metadata": {},
   "source": [
    "## Data Preparation"
   ]
  },
  {
   "cell_type": "markdown",
   "id": "5812ff30",
   "metadata": {},
   "source": [
    "Dari semua fitur, column yang memiliki kategori beragam hanya:\n",
    "- Department\n",
    "- Salary\n",
    "\n",
    "Sehingga hanya 2 fitur tersebut yang akan dilakukan encoding dengan menggunkaan OneHot Encoding"
   ]
  },
  {
   "cell_type": "code",
   "execution_count": 15,
   "id": "ff6d6132",
   "metadata": {},
   "outputs": [
    {
     "data": {
      "text/html": [
       "<div>\n",
       "<style scoped>\n",
       "    .dataframe tbody tr th:only-of-type {\n",
       "        vertical-align: middle;\n",
       "    }\n",
       "\n",
       "    .dataframe tbody tr th {\n",
       "        vertical-align: top;\n",
       "    }\n",
       "\n",
       "    .dataframe thead th {\n",
       "        text-align: right;\n",
       "    }\n",
       "</style>\n",
       "<table border=\"1\" class=\"dataframe\">\n",
       "  <thead>\n",
       "    <tr style=\"text-align: right;\">\n",
       "      <th></th>\n",
       "      <th>satisfaction_level</th>\n",
       "      <th>last_evaluation</th>\n",
       "      <th>number_project</th>\n",
       "      <th>average_montly_hours</th>\n",
       "      <th>time_spend_company</th>\n",
       "      <th>Work_accident</th>\n",
       "      <th>left</th>\n",
       "      <th>promotion_last_5years</th>\n",
       "      <th>job_IT</th>\n",
       "      <th>job_RandD</th>\n",
       "      <th>...</th>\n",
       "      <th>job_hr</th>\n",
       "      <th>job_management</th>\n",
       "      <th>job_marketing</th>\n",
       "      <th>job_product_mng</th>\n",
       "      <th>job_sales</th>\n",
       "      <th>job_support</th>\n",
       "      <th>job_technical</th>\n",
       "      <th>salary_high</th>\n",
       "      <th>salary_low</th>\n",
       "      <th>salary_medium</th>\n",
       "    </tr>\n",
       "  </thead>\n",
       "  <tbody>\n",
       "    <tr>\n",
       "      <th>0</th>\n",
       "      <td>0.38</td>\n",
       "      <td>0.53</td>\n",
       "      <td>2</td>\n",
       "      <td>157</td>\n",
       "      <td>3</td>\n",
       "      <td>0</td>\n",
       "      <td>1</td>\n",
       "      <td>0</td>\n",
       "      <td>0</td>\n",
       "      <td>0</td>\n",
       "      <td>...</td>\n",
       "      <td>0</td>\n",
       "      <td>0</td>\n",
       "      <td>0</td>\n",
       "      <td>0</td>\n",
       "      <td>1</td>\n",
       "      <td>0</td>\n",
       "      <td>0</td>\n",
       "      <td>0</td>\n",
       "      <td>1</td>\n",
       "      <td>0</td>\n",
       "    </tr>\n",
       "    <tr>\n",
       "      <th>1</th>\n",
       "      <td>0.80</td>\n",
       "      <td>0.86</td>\n",
       "      <td>5</td>\n",
       "      <td>262</td>\n",
       "      <td>6</td>\n",
       "      <td>0</td>\n",
       "      <td>1</td>\n",
       "      <td>0</td>\n",
       "      <td>0</td>\n",
       "      <td>0</td>\n",
       "      <td>...</td>\n",
       "      <td>0</td>\n",
       "      <td>0</td>\n",
       "      <td>0</td>\n",
       "      <td>0</td>\n",
       "      <td>1</td>\n",
       "      <td>0</td>\n",
       "      <td>0</td>\n",
       "      <td>0</td>\n",
       "      <td>0</td>\n",
       "      <td>1</td>\n",
       "    </tr>\n",
       "    <tr>\n",
       "      <th>2</th>\n",
       "      <td>0.11</td>\n",
       "      <td>0.88</td>\n",
       "      <td>7</td>\n",
       "      <td>272</td>\n",
       "      <td>4</td>\n",
       "      <td>0</td>\n",
       "      <td>1</td>\n",
       "      <td>0</td>\n",
       "      <td>0</td>\n",
       "      <td>0</td>\n",
       "      <td>...</td>\n",
       "      <td>0</td>\n",
       "      <td>0</td>\n",
       "      <td>0</td>\n",
       "      <td>0</td>\n",
       "      <td>1</td>\n",
       "      <td>0</td>\n",
       "      <td>0</td>\n",
       "      <td>0</td>\n",
       "      <td>0</td>\n",
       "      <td>1</td>\n",
       "    </tr>\n",
       "    <tr>\n",
       "      <th>3</th>\n",
       "      <td>0.72</td>\n",
       "      <td>0.87</td>\n",
       "      <td>5</td>\n",
       "      <td>223</td>\n",
       "      <td>5</td>\n",
       "      <td>0</td>\n",
       "      <td>1</td>\n",
       "      <td>0</td>\n",
       "      <td>0</td>\n",
       "      <td>0</td>\n",
       "      <td>...</td>\n",
       "      <td>0</td>\n",
       "      <td>0</td>\n",
       "      <td>0</td>\n",
       "      <td>0</td>\n",
       "      <td>1</td>\n",
       "      <td>0</td>\n",
       "      <td>0</td>\n",
       "      <td>0</td>\n",
       "      <td>1</td>\n",
       "      <td>0</td>\n",
       "    </tr>\n",
       "    <tr>\n",
       "      <th>4</th>\n",
       "      <td>0.37</td>\n",
       "      <td>0.52</td>\n",
       "      <td>2</td>\n",
       "      <td>159</td>\n",
       "      <td>3</td>\n",
       "      <td>0</td>\n",
       "      <td>1</td>\n",
       "      <td>0</td>\n",
       "      <td>0</td>\n",
       "      <td>0</td>\n",
       "      <td>...</td>\n",
       "      <td>0</td>\n",
       "      <td>0</td>\n",
       "      <td>0</td>\n",
       "      <td>0</td>\n",
       "      <td>1</td>\n",
       "      <td>0</td>\n",
       "      <td>0</td>\n",
       "      <td>0</td>\n",
       "      <td>1</td>\n",
       "      <td>0</td>\n",
       "    </tr>\n",
       "  </tbody>\n",
       "</table>\n",
       "<p>5 rows × 21 columns</p>\n",
       "</div>"
      ],
      "text/plain": [
       "   satisfaction_level  last_evaluation  number_project  average_montly_hours  \\\n",
       "0                0.38             0.53               2                   157   \n",
       "1                0.80             0.86               5                   262   \n",
       "2                0.11             0.88               7                   272   \n",
       "3                0.72             0.87               5                   223   \n",
       "4                0.37             0.52               2                   159   \n",
       "\n",
       "   time_spend_company  Work_accident  left  promotion_last_5years  job_IT  \\\n",
       "0                   3              0     1                      0       0   \n",
       "1                   6              0     1                      0       0   \n",
       "2                   4              0     1                      0       0   \n",
       "3                   5              0     1                      0       0   \n",
       "4                   3              0     1                      0       0   \n",
       "\n",
       "   job_RandD  ...  job_hr  job_management  job_marketing  job_product_mng  \\\n",
       "0          0  ...       0               0              0                0   \n",
       "1          0  ...       0               0              0                0   \n",
       "2          0  ...       0               0              0                0   \n",
       "3          0  ...       0               0              0                0   \n",
       "4          0  ...       0               0              0                0   \n",
       "\n",
       "   job_sales  job_support  job_technical  salary_high  salary_low  \\\n",
       "0          1            0              0            0           1   \n",
       "1          1            0              0            0           0   \n",
       "2          1            0              0            0           0   \n",
       "3          1            0              0            0           1   \n",
       "4          1            0              0            0           1   \n",
       "\n",
       "   salary_medium  \n",
       "0              0  \n",
       "1              1  \n",
       "2              1  \n",
       "3              0  \n",
       "4              0  \n",
       "\n",
       "[5 rows x 21 columns]"
      ]
     },
     "execution_count": 15,
     "metadata": {},
     "output_type": "execute_result"
    }
   ],
   "source": [
    "df = pd.concat([df, pd.get_dummies(df['Department'], prefix='job')], axis=1)\n",
    "df = pd.concat([df, pd.get_dummies(df['salary'], prefix='salary')], axis=1)\n",
    "\n",
    "df.drop(['Department', 'salary'], axis=1, inplace=True)\n",
    "df.head()"
   ]
  },
  {
   "cell_type": "code",
   "execution_count": 119,
   "id": "708fab28",
   "metadata": {},
   "outputs": [
    {
     "data": {
      "text/plain": [
       "'|    |   satisfaction_level |   last_evaluation |   number_project |   average_montly_hours |   time_spend_company |   Work_accident |   left |   promotion_last_5years | Department   | salary   |\\n|---:|---------------------:|------------------:|-----------------:|-----------------------:|---------------------:|----------------:|-------:|------------------------:|:-------------|:---------|\\n|  0 |                 0.38 |              0.53 |                2 |                    157 |                    3 |               0 |      1 |                       0 | sales        | low      |\\n|  1 |                 0.8  |              0.86 |                5 |                    262 |                    6 |               0 |      1 |                       0 | sales        | medium   |\\n|  2 |                 0.11 |              0.88 |                7 |                    272 |                    4 |               0 |      1 |                       0 | sales        | medium   |\\n|  3 |                 0.72 |              0.87 |                5 |                    223 |                    5 |               0 |      1 |                       0 | sales        | low      |\\n|  4 |                 0.37 |              0.52 |                2 |                    159 |                    3 |               0 |      1 |                       0 | sales        | low      |'"
      ]
     },
     "execution_count": 119,
     "metadata": {},
     "output_type": "execute_result"
    }
   ],
   "source": [
    "df.head().to_markdown()"
   ]
  },
  {
   "cell_type": "markdown",
   "id": "16324ebe",
   "metadata": {},
   "source": [
    "PCA tidak dilakukan dikarenakan tidak ada fitur yang saling bersinggungan secara signifikan"
   ]
  },
  {
   "cell_type": "markdown",
   "id": "5fdd20a9",
   "metadata": {},
   "source": [
    "### Train Test Split"
   ]
  },
  {
   "cell_type": "markdown",
   "id": "86908bd1",
   "metadata": {},
   "source": [
    "Karena data memiliki jumlah yang sangat banyak (14999) splitting akan dilakukan dengan perbanding 80:20 (train:test)"
   ]
  },
  {
   "cell_type": "code",
   "execution_count": 16,
   "id": "6a99f416",
   "metadata": {},
   "outputs": [],
   "source": [
    "X = df.drop(['left'], axis=1)\n",
    "y = df['left']\n",
    "\n",
    "X_train, X_test, y_train, y_test = train_test_split(X, y, test_size=0.2, stratify=y, random_state=42)"
   ]
  },
  {
   "cell_type": "code",
   "execution_count": 17,
   "id": "95c8400a",
   "metadata": {},
   "outputs": [
    {
     "name": "stdout",
     "output_type": "stream",
     "text": [
      "Jumlah data train: 11999\n",
      "Jumlah data test: 3000\n"
     ]
    }
   ],
   "source": [
    "print(\"Jumlah data train: \" +  str(len(X_train)))\n",
    "print(\"Jumlah data test: \" +  str(len(X_test)))"
   ]
  },
  {
   "cell_type": "markdown",
   "id": "081ac971",
   "metadata": {},
   "source": [
    "### Scaling"
   ]
  },
  {
   "cell_type": "markdown",
   "id": "966cfe05",
   "metadata": {},
   "source": [
    "Terdapat beberapa fitur numerik yang memiliki nilai beragam, sehingga perlu dilakukan scaling. Scaler yang dilakukan dengan menggunakan StandardScaler"
   ]
  },
  {
   "cell_type": "markdown",
   "id": "6b370e84",
   "metadata": {},
   "source": [
    "#### Scale Train Data"
   ]
  },
  {
   "cell_type": "code",
   "execution_count": 120,
   "id": "5657e7d3",
   "metadata": {},
   "outputs": [
    {
     "data": {
      "text/html": [
       "<div>\n",
       "<style scoped>\n",
       "    .dataframe tbody tr th:only-of-type {\n",
       "        vertical-align: middle;\n",
       "    }\n",
       "\n",
       "    .dataframe tbody tr th {\n",
       "        vertical-align: top;\n",
       "    }\n",
       "\n",
       "    .dataframe thead th {\n",
       "        text-align: right;\n",
       "    }\n",
       "</style>\n",
       "<table border=\"1\" class=\"dataframe\">\n",
       "  <thead>\n",
       "    <tr style=\"text-align: right;\">\n",
       "      <th></th>\n",
       "      <th>satisfaction_level</th>\n",
       "      <th>last_evaluation</th>\n",
       "      <th>number_project</th>\n",
       "      <th>average_montly_hours</th>\n",
       "      <th>time_spend_company</th>\n",
       "    </tr>\n",
       "  </thead>\n",
       "  <tbody>\n",
       "    <tr>\n",
       "      <th>12896</th>\n",
       "      <td>0.474481</td>\n",
       "      <td>-0.562644</td>\n",
       "      <td>0.162568</td>\n",
       "      <td>0.921578</td>\n",
       "      <td>0.342509</td>\n",
       "    </tr>\n",
       "    <tr>\n",
       "      <th>12545</th>\n",
       "      <td>0.675614</td>\n",
       "      <td>1.657633</td>\n",
       "      <td>0.973990</td>\n",
       "      <td>0.701313</td>\n",
       "      <td>1.028612</td>\n",
       "    </tr>\n",
       "    <tr>\n",
       "      <th>14833</th>\n",
       "      <td>-2.059790</td>\n",
       "      <td>-0.971642</td>\n",
       "      <td>-1.460274</td>\n",
       "      <td>0.921578</td>\n",
       "      <td>0.342509</td>\n",
       "    </tr>\n",
       "    <tr>\n",
       "      <th>8335</th>\n",
       "      <td>-0.088690</td>\n",
       "      <td>-1.205355</td>\n",
       "      <td>-1.460274</td>\n",
       "      <td>-1.501335</td>\n",
       "      <td>-0.343595</td>\n",
       "    </tr>\n",
       "    <tr>\n",
       "      <th>2724</th>\n",
       "      <td>0.273349</td>\n",
       "      <td>-1.380640</td>\n",
       "      <td>0.162568</td>\n",
       "      <td>1.001674</td>\n",
       "      <td>0.342509</td>\n",
       "    </tr>\n",
       "  </tbody>\n",
       "</table>\n",
       "</div>"
      ],
      "text/plain": [
       "       satisfaction_level  last_evaluation  number_project  \\\n",
       "12896            0.474481        -0.562644        0.162568   \n",
       "12545            0.675614         1.657633        0.973990   \n",
       "14833           -2.059790        -0.971642       -1.460274   \n",
       "8335            -0.088690        -1.205355       -1.460274   \n",
       "2724             0.273349        -1.380640        0.162568   \n",
       "\n",
       "       average_montly_hours  time_spend_company  \n",
       "12896              0.921578            0.342509  \n",
       "12545              0.701313            1.028612  \n",
       "14833              0.921578            0.342509  \n",
       "8335              -1.501335           -0.343595  \n",
       "2724               1.001674            0.342509  "
      ]
     },
     "execution_count": 120,
     "metadata": {},
     "output_type": "execute_result"
    }
   ],
   "source": [
    "scaler = StandardScaler()\n",
    "scaler.fit(X_train[numeric_columns])\n",
    "X_train[numeric_columns] = scaler.transform(X_train.loc[:, numeric_columns])\n",
    "X_train[numeric_columns].head()"
   ]
  },
  {
   "cell_type": "code",
   "execution_count": 121,
   "id": "f384f64c",
   "metadata": {},
   "outputs": [
    {
     "data": {
      "text/plain": [
       "'|       |   satisfaction_level |   last_evaluation |   number_project |   average_montly_hours |   time_spend_company |\\n|------:|---------------------:|------------------:|-----------------:|-----------------------:|---------------------:|\\n| 12896 |            0.474481  |         -0.562644 |         0.162568 |               0.921578 |             0.342509 |\\n| 12545 |            0.675614  |          1.65763  |         0.97399  |               0.701313 |             1.02861  |\\n| 14833 |           -2.05979   |         -0.971642 |        -1.46027  |               0.921578 |             0.342509 |\\n|  8335 |           -0.0886901 |         -1.20536  |        -1.46027  |              -1.50134  |            -0.343595 |\\n|  2724 |            0.273349  |         -1.38064  |         0.162568 |               1.00167  |             0.342509 |'"
      ]
     },
     "execution_count": 121,
     "metadata": {},
     "output_type": "execute_result"
    }
   ],
   "source": [
    "X_train[numeric_columns].head().to_markdown()"
   ]
  },
  {
   "cell_type": "markdown",
   "id": "63caedf3",
   "metadata": {},
   "source": [
    "#### Scaling Test Data"
   ]
  },
  {
   "cell_type": "code",
   "execution_count": 19,
   "id": "24f7db61",
   "metadata": {},
   "outputs": [
    {
     "data": {
      "text/html": [
       "<div>\n",
       "<style scoped>\n",
       "    .dataframe tbody tr th:only-of-type {\n",
       "        vertical-align: middle;\n",
       "    }\n",
       "\n",
       "    .dataframe tbody tr th {\n",
       "        vertical-align: top;\n",
       "    }\n",
       "\n",
       "    .dataframe thead th {\n",
       "        text-align: right;\n",
       "    }\n",
       "</style>\n",
       "<table border=\"1\" class=\"dataframe\">\n",
       "  <thead>\n",
       "    <tr style=\"text-align: right;\">\n",
       "      <th></th>\n",
       "      <th>satisfaction_level</th>\n",
       "      <th>last_evaluation</th>\n",
       "      <th>number_project</th>\n",
       "      <th>average_montly_hours</th>\n",
       "      <th>time_spend_company</th>\n",
       "    </tr>\n",
       "  </thead>\n",
       "  <tbody>\n",
       "    <tr>\n",
       "      <th>6910</th>\n",
       "      <td>1.077879</td>\n",
       "      <td>1.657633</td>\n",
       "      <td>-0.648853</td>\n",
       "      <td>-1.521359</td>\n",
       "      <td>-0.343595</td>\n",
       "    </tr>\n",
       "    <tr>\n",
       "      <th>2860</th>\n",
       "      <td>1.520371</td>\n",
       "      <td>-0.212074</td>\n",
       "      <td>0.162568</td>\n",
       "      <td>-0.219794</td>\n",
       "      <td>-0.343595</td>\n",
       "    </tr>\n",
       "    <tr>\n",
       "      <th>6286</th>\n",
       "      <td>-0.852994</td>\n",
       "      <td>-0.270502</td>\n",
       "      <td>-0.648853</td>\n",
       "      <td>-1.721600</td>\n",
       "      <td>-0.343595</td>\n",
       "    </tr>\n",
       "    <tr>\n",
       "      <th>12838</th>\n",
       "      <td>1.480145</td>\n",
       "      <td>0.313781</td>\n",
       "      <td>-0.648853</td>\n",
       "      <td>-0.199770</td>\n",
       "      <td>-1.029699</td>\n",
       "    </tr>\n",
       "    <tr>\n",
       "      <th>13692</th>\n",
       "      <td>0.876747</td>\n",
       "      <td>0.080068</td>\n",
       "      <td>0.162568</td>\n",
       "      <td>-0.880589</td>\n",
       "      <td>-1.029699</td>\n",
       "    </tr>\n",
       "  </tbody>\n",
       "</table>\n",
       "</div>"
      ],
      "text/plain": [
       "       satisfaction_level  last_evaluation  number_project  \\\n",
       "6910             1.077879         1.657633       -0.648853   \n",
       "2860             1.520371        -0.212074        0.162568   \n",
       "6286            -0.852994        -0.270502       -0.648853   \n",
       "12838            1.480145         0.313781       -0.648853   \n",
       "13692            0.876747         0.080068        0.162568   \n",
       "\n",
       "       average_montly_hours  time_spend_company  \n",
       "6910              -1.521359           -0.343595  \n",
       "2860              -0.219794           -0.343595  \n",
       "6286              -1.721600           -0.343595  \n",
       "12838             -0.199770           -1.029699  \n",
       "13692             -0.880589           -1.029699  "
      ]
     },
     "execution_count": 19,
     "metadata": {},
     "output_type": "execute_result"
    }
   ],
   "source": [
    "X_test[numeric_columns] = scaler.transform(X_test.loc[:, numeric_columns])\n",
    "X_test[numeric_columns].head()"
   ]
  },
  {
   "cell_type": "markdown",
   "id": "20cf3a05",
   "metadata": {},
   "source": [
    "## Modeling"
   ]
  },
  {
   "cell_type": "markdown",
   "id": "769c7ac3",
   "metadata": {},
   "source": [
    "Dikarenakan data klasifikasi cukup imbalance, scoring yang digunakan adalah **`f1 score`**"
   ]
  },
  {
   "cell_type": "markdown",
   "id": "e55f8a2d",
   "metadata": {},
   "source": [
    "### K Nearest Neighbor (KNN)"
   ]
  },
  {
   "cell_type": "code",
   "execution_count": 62,
   "id": "6a623852",
   "metadata": {},
   "outputs": [
    {
     "data": {
      "text/plain": [
       "KNeighborsClassifier(n_neighbors=10)"
      ]
     },
     "execution_count": 62,
     "metadata": {},
     "output_type": "execute_result"
    }
   ],
   "source": [
    "knn = KNeighborsClassifier(n_neighbors=10)\n",
    "knn.fit(X_train, y_train)"
   ]
  },
  {
   "cell_type": "code",
   "execution_count": 63,
   "id": "4d134b8e",
   "metadata": {},
   "outputs": [
    {
     "name": "stdout",
     "output_type": "stream",
     "text": [
      "f1 score: 0.8961748633879781\n"
     ]
    }
   ],
   "source": [
    "knn_f1 = f1_score(y_test, knn.predict(X_test))\n",
    "print('f1 score: ' + str(knn_f1))"
   ]
  },
  {
   "cell_type": "code",
   "execution_count": 64,
   "id": "28eb4763",
   "metadata": {},
   "outputs": [
    {
     "data": {
      "application/vnd.jupyter.widget-view+json": {
       "model_id": "e295930898724143993746ab856f34b7",
       "version_major": 2,
       "version_minor": 0
      },
      "text/plain": [
       "  0%|          | 0/10 [00:00<?, ?it/s]"
      ]
     },
     "metadata": {},
     "output_type": "display_data"
    }
   ],
   "source": [
    "n_neighbors = range(1, 20, 2)\n",
    "train_score = []\n",
    "test_score = []\n",
    "\n",
    "for n in tqdm(n_neighbors):\n",
    "    knn = KNeighborsClassifier(n_neighbors=n)\n",
    "    knn.fit(X_train, y_train)\n",
    "    trains = f1_score(y_train, knn.predict(X_train))\n",
    "    tests = f1_score(y_test, knn.predict(X_test))\n",
    "    \n",
    "    train_score.append(trains)\n",
    "    test_score.append(tests)"
   ]
  },
  {
   "cell_type": "code",
   "execution_count": 65,
   "id": "f50ac622",
   "metadata": {},
   "outputs": [
    {
     "name": "stdout",
     "output_type": "stream",
     "text": [
      "Max test score: 0.9393319700068167\n",
      "n_neighbor terbaik: 1\n"
     ]
    },
    {
     "data": {
      "image/png": "[encoded data removed]",
      "text/plain": [
       "<Figure size 432x288 with 1 Axes>"
      ]
     },
     "metadata": {
      "needs_background": "light"
     },
     "output_type": "display_data"
    }
   ],
   "source": [
    "plt.plot(n_neighbors, train_score, label='train')\n",
    "plt.plot(n_neighbors, test_score, label='test')\n",
    "plt.legend()\n",
    "\n",
    "print(\"Max test score: \" + str(np.max(test_score)))\n",
    "print(\"n_neighbor terbaik: \" + str(n_neighbors[np.argmax(test_score)]))"
   ]
  },
  {
   "cell_type": "markdown",
   "id": "3aacb2a6",
   "metadata": {},
   "source": [
    "n dengan nilai terbaik adalah 1"
   ]
  },
  {
   "cell_type": "code",
   "execution_count": 66,
   "id": "c781247f",
   "metadata": {},
   "outputs": [
    {
     "data": {
      "text/plain": [
       "KNeighborsClassifier(n_neighbors=1)"
      ]
     },
     "execution_count": 66,
     "metadata": {},
     "output_type": "execute_result"
    }
   ],
   "source": [
    "knn = KNeighborsClassifier(n_neighbors=1)\n",
    "knn.fit(X_train, y_train)"
   ]
  },
  {
   "cell_type": "code",
   "execution_count": 67,
   "id": "69433b47",
   "metadata": {},
   "outputs": [
    {
     "name": "stdout",
     "output_type": "stream",
     "text": [
      "f1 score: 0.9393319700068167\n"
     ]
    }
   ],
   "source": [
    "knn_f1 = f1_score(y_test, knn.predict(X_test))\n",
    "print('f1 score: ' + str(knn_f1))"
   ]
  },
  {
   "cell_type": "markdown",
   "id": "0132df5f",
   "metadata": {},
   "source": [
    "###  Support Vector Machine (SVM)"
   ]
  },
  {
   "cell_type": "code",
   "execution_count": 68,
   "id": "d95d5a7d",
   "metadata": {},
   "outputs": [
    {
     "data": {
      "text/plain": [
       "SVC()"
      ]
     },
     "execution_count": 68,
     "metadata": {},
     "output_type": "execute_result"
    }
   ],
   "source": [
    "svc = SVC()\n",
    "svc.fit(X_train, y_train)"
   ]
  },
  {
   "cell_type": "code",
   "execution_count": 69,
   "id": "fd457bfa",
   "metadata": {},
   "outputs": [
    {
     "name": "stdout",
     "output_type": "stream",
     "text": [
      "f1 score:: 0.9301994301994302\n"
     ]
    }
   ],
   "source": [
    "svc_f1 = f1_score(y_test, svc.predict(X_test))\n",
    "print('f1 score:: ' + str(svc_f1))"
   ]
  },
  {
   "cell_type": "code",
   "execution_count": 70,
   "id": "80f22408",
   "metadata": {},
   "outputs": [
    {
     "data": {
      "application/vnd.jupyter.widget-view+json": {
       "model_id": "7cb1e9f31a904ba9a93ddcceea630bed",
       "version_major": 2,
       "version_minor": 0
      },
      "text/plain": [
       "  0%|          | 0/4 [00:00<?, ?it/s]"
      ]
     },
     "metadata": {},
     "output_type": "display_data"
    }
   ],
   "source": [
    "C_values = np.logspace(0, 3, 4, dtype=int)\n",
    "train_score = []\n",
    "test_score = []\n",
    "\n",
    "for n in tqdm(C_values):\n",
    "    svc = SVC(C=n)\n",
    "    svc.fit(X_train, y_train)\n",
    "    trains = f1_score(y_train, svc.predict(X_train))\n",
    "    tests = f1_score(y_test, svc.predict(X_test))\n",
    "    \n",
    "    train_score.append(trains)\n",
    "    test_score.append(tests)"
   ]
  },
  {
   "cell_type": "code",
   "execution_count": 61,
   "id": "f2550c35",
   "metadata": {},
   "outputs": [
    {
     "name": "stdout",
     "output_type": "stream",
     "text": [
      "Max test score: 0.9490579204466155\n",
      "C_value terbaik: 100\n"
     ]
    },
    {
     "data": {
      "image/png": "[encoded data removed]",
      "text/plain": [
       "<Figure size 432x288 with 1 Axes>"
      ]
     },
     "metadata": {
      "needs_background": "light"
     },
     "output_type": "display_data"
    }
   ],
   "source": [
    "plt.plot(C_values, train_score, label='train')\n",
    "plt.plot(C_values, test_score, label='test')\n",
    "plt.legend()\n",
    "\n",
    "print(\"Max test score: \" + str(np.max(test_score)))\n",
    "print(\"C_value terbaik: \" + str(C_values[np.argmax(test_score)]))"
   ]
  },
  {
   "cell_type": "markdown",
   "id": "8e8b4df0",
   "metadata": {},
   "source": [
    "C value dengan nilai terbaik adalah `100`"
   ]
  },
  {
   "cell_type": "code",
   "execution_count": 71,
   "id": "613ba7cf",
   "metadata": {},
   "outputs": [
    {
     "data": {
      "text/plain": [
       "SVC(C=100)"
      ]
     },
     "execution_count": 71,
     "metadata": {},
     "output_type": "execute_result"
    }
   ],
   "source": [
    "svc = SVC(C=100)\n",
    "svc.fit(X_train, y_train)"
   ]
  },
  {
   "cell_type": "code",
   "execution_count": 72,
   "id": "7ca83b32",
   "metadata": {},
   "outputs": [
    {
     "name": "stdout",
     "output_type": "stream",
     "text": [
      "f1 score:: 0.9490579204466155\n"
     ]
    }
   ],
   "source": [
    "svc_f1 = f1_score(y_test, svc.predict(X_test))\n",
    "print('f1 score:: ' + str(svc_f1))"
   ]
  },
  {
   "cell_type": "markdown",
   "id": "18c302e0",
   "metadata": {},
   "source": [
    "### Random Forest"
   ]
  },
  {
   "cell_type": "code",
   "execution_count": 73,
   "id": "7d0e9b0b",
   "metadata": {},
   "outputs": [
    {
     "data": {
      "text/plain": [
       "RandomForestClassifier(max_depth=5, n_estimators=5, n_jobs=-1, random_state=42)"
      ]
     },
     "execution_count": 73,
     "metadata": {},
     "output_type": "execute_result"
    }
   ],
   "source": [
    "RF = RandomForestClassifier(n_estimators=5, max_depth=5, random_state=42, n_jobs=-1)\n",
    "RF.fit(X_train, y_train)"
   ]
  },
  {
   "cell_type": "code",
   "execution_count": 74,
   "id": "0f49ed54",
   "metadata": {},
   "outputs": [
    {
     "name": "stdout",
     "output_type": "stream",
     "text": [
      "f1 score: 0.8074735987002437\n"
     ]
    }
   ],
   "source": [
    "rf_f1 = f1_score(y_test, RF.predict(X_test))\n",
    "print('f1 score: ' + str(rf_f1))"
   ]
  },
  {
   "cell_type": "markdown",
   "id": "2940eac1",
   "metadata": {},
   "source": [
    "Hasil randomForest dengan parameter yang ditentukan masih kurang baik, sehingga tunning Hyperparameter dengan GridSearchCV dilakukan"
   ]
  },
  {
   "cell_type": "markdown",
   "id": "de2f2d04",
   "metadata": {},
   "source": [
    "##### Tunning dengan GridSearchCV"
   ]
  },
  {
   "cell_type": "code",
   "execution_count": 76,
   "id": "82e99d09",
   "metadata": {},
   "outputs": [
    {
     "data": {
      "text/plain": [
       "{'bootstrap': True,\n",
       " 'ccp_alpha': 0.0,\n",
       " 'class_weight': None,\n",
       " 'criterion': 'gini',\n",
       " 'max_depth': 5,\n",
       " 'max_features': 'auto',\n",
       " 'max_leaf_nodes': None,\n",
       " 'max_samples': None,\n",
       " 'min_impurity_decrease': 0.0,\n",
       " 'min_samples_leaf': 1,\n",
       " 'min_samples_split': 2,\n",
       " 'min_weight_fraction_leaf': 0.0,\n",
       " 'n_estimators': 5,\n",
       " 'n_jobs': -1,\n",
       " 'oob_score': False,\n",
       " 'random_state': 42,\n",
       " 'verbose': 0,\n",
       " 'warm_start': False}"
      ]
     },
     "execution_count": 76,
     "metadata": {},
     "output_type": "execute_result"
    }
   ],
   "source": [
    "# mengetahui RandomForest Parameters\n",
    "RF.get_params()"
   ]
  },
  {
   "cell_type": "code",
   "execution_count": 77,
   "id": "3ea8936b",
   "metadata": {},
   "outputs": [],
   "source": [
    "parameter = {\n",
    "    \"n_estimators\": [25, 50, 100],\n",
    "    \"max_depth\": [10, 20, 30],\n",
    "    \"min_samples_leaf\": [1, 5, 10]\n",
    "}\n",
    "GSV = GridSearchCV(RF, parameter, cv=3, scoring='f1', n_jobs=-1, verbose=1)"
   ]
  },
  {
   "cell_type": "code",
   "execution_count": 78,
   "id": "57b7c654",
   "metadata": {},
   "outputs": [
    {
     "name": "stdout",
     "output_type": "stream",
     "text": [
      "Fitting 3 folds for each of 27 candidates, totalling 81 fits\n"
     ]
    },
    {
     "data": {
      "text/plain": [
       "GridSearchCV(cv=3,\n",
       "             estimator=RandomForestClassifier(max_depth=5, n_estimators=5,\n",
       "                                              n_jobs=-1, random_state=42),\n",
       "             n_jobs=-1,\n",
       "             param_grid={'max_depth': [10, 20, 30],\n",
       "                         'min_samples_leaf': [1, 5, 10],\n",
       "                         'n_estimators': [25, 50, 100]},\n",
       "             scoring='f1', verbose=1)"
      ]
     },
     "execution_count": 78,
     "metadata": {},
     "output_type": "execute_result"
    }
   ],
   "source": [
    "GSV.fit(X_train, y_train)"
   ]
  },
  {
   "cell_type": "code",
   "execution_count": 79,
   "id": "84b2af9c",
   "metadata": {
    "scrolled": true
   },
   "outputs": [
    {
     "name": "stdout",
     "output_type": "stream",
     "text": [
      "Train Score best model: 0.9994750656167979\n",
      "Test Score best model: 0.9779359430604982\n"
     ]
    }
   ],
   "source": [
    "print(\"Train Score best model: \" + str(GSV.score(X_train, y_train)))\n",
    "print(\"Test Score best model: \" + str(GSV.score(X_test, y_test)))"
   ]
  },
  {
   "cell_type": "code",
   "execution_count": 80,
   "id": "62487b59",
   "metadata": {},
   "outputs": [
    {
     "data": {
      "text/plain": [
       "{'max_depth': 20, 'min_samples_leaf': 1, 'n_estimators': 100}"
      ]
     },
     "execution_count": 80,
     "metadata": {},
     "output_type": "execute_result"
    }
   ],
   "source": [
    "GSV.best_params_"
   ]
  },
  {
   "cell_type": "markdown",
   "id": "132df3a5",
   "metadata": {},
   "source": [
    "Parameter terbaik yaitu:\n",
    "- max_depth: 30\n",
    "- min_samples_leaf: 1\n",
    "- n_estimators: 100"
   ]
  },
  {
   "cell_type": "markdown",
   "id": "32e7e036",
   "metadata": {},
   "source": [
    "## Metrik Evaluasi"
   ]
  },
  {
   "cell_type": "markdown",
   "id": "6c7e99b0",
   "metadata": {},
   "source": [
    "### KNN"
   ]
  },
  {
   "cell_type": "code",
   "execution_count": 34,
   "id": "776eac1f",
   "metadata": {},
   "outputs": [
    {
     "data": {
      "image/png": "[encoded data removed]",
      "text/plain": [
       "<Figure size 432x288 with 2 Axes>"
      ]
     },
     "metadata": {
      "needs_background": "light"
     },
     "output_type": "display_data"
    },
    {
     "name": "stdout",
     "output_type": "stream",
     "text": [
      "              precision    recall  f1-score   support\n",
      "\n",
      "           0       0.99      0.97      0.98      2286\n",
      "           1       0.92      0.96      0.94       714\n",
      "\n",
      "    accuracy                           0.97      3000\n",
      "   macro avg       0.95      0.97      0.96      3000\n",
      "weighted avg       0.97      0.97      0.97      3000\n",
      "\n"
     ]
    }
   ],
   "source": [
    "knn_pred = knn.predict(X_test)\n",
    "knn_confusion_matrix = metrics.confusion_matrix(y_test, knn_pred)\n",
    "knn_cm_display = metrics.ConfusionMatrixDisplay(confusion_matrix = knn_confusion_matrix, display_labels = [False, True])\n",
    "\n",
    "knn_cm_display.plot()\n",
    "plt.show()\n",
    "print(metrics.classification_report(y_test, knn_pred))"
   ]
  },
  {
   "cell_type": "markdown",
   "id": "3d8a4e76",
   "metadata": {},
   "source": [
    "### SVM"
   ]
  },
  {
   "cell_type": "code",
   "execution_count": 82,
   "id": "19ecb3d9",
   "metadata": {},
   "outputs": [
    {
     "data": {
      "image/png": "[encoded data removed]",
      "text/plain": [
       "<Figure size 432x288 with 2 Axes>"
      ]
     },
     "metadata": {
      "needs_background": "light"
     },
     "output_type": "display_data"
    },
    {
     "name": "stdout",
     "output_type": "stream",
     "text": [
      "              precision    recall  f1-score   support\n",
      "\n",
      "           0       0.99      0.98      0.98      2286\n",
      "           1       0.95      0.95      0.95       714\n",
      "\n",
      "    accuracy                           0.98      3000\n",
      "   macro avg       0.97      0.97      0.97      3000\n",
      "weighted avg       0.98      0.98      0.98      3000\n",
      "\n"
     ]
    }
   ],
   "source": [
    "svm_pred = svc.predict(X_test)\n",
    "svm_confusion_matrix = metrics.confusion_matrix(y_test, svm_pred)\n",
    "svm_cm_display = metrics.ConfusionMatrixDisplay(confusion_matrix = svm_confusion_matrix, display_labels = [False, True])\n",
    "\n",
    "svm_cm_display.plot()\n",
    "plt.show()\n",
    "print(metrics.classification_report(y_test, svm_pred))"
   ]
  },
  {
   "cell_type": "markdown",
   "id": "738edf32",
   "metadata": {},
   "source": [
    "### Random Forest"
   ]
  },
  {
   "cell_type": "code",
   "execution_count": 83,
   "id": "9cd4d484",
   "metadata": {},
   "outputs": [
    {
     "data": {
      "image/png": "[encoded data removed]",
      "text/plain": [
       "<Figure size 432x288 with 2 Axes>"
      ]
     },
     "metadata": {
      "needs_background": "light"
     },
     "output_type": "display_data"
    },
    {
     "name": "stdout",
     "output_type": "stream",
     "text": [
      "              precision    recall  f1-score   support\n",
      "\n",
      "           0       0.91      0.99      0.95      2286\n",
      "           1       0.96      0.70      0.81       714\n",
      "\n",
      "    accuracy                           0.92      3000\n",
      "   macro avg       0.94      0.84      0.88      3000\n",
      "weighted avg       0.92      0.92      0.92      3000\n",
      "\n"
     ]
    }
   ],
   "source": [
    "RF_pred = RF.predict(X_test)\n",
    "RF_confusion_matrix = metrics.confusion_matrix(y_test, RF_pred)\n",
    "RF_cm_display = metrics.ConfusionMatrixDisplay(confusion_matrix = RF_confusion_matrix, display_labels = [False, True])\n",
    "\n",
    "RF_cm_display.plot()\n",
    "plt.show()\n",
    "print(metrics.classification_report(y_test, RF_pred))"
   ]
  },
  {
   "cell_type": "markdown",
   "id": "8db52c93",
   "metadata": {},
   "source": [
    "`Random Forest sering gagal dalam memprediksi nilai True`"
   ]
  },
  {
   "cell_type": "markdown",
   "id": "372f0800",
   "metadata": {},
   "source": [
    "### Random Forest with GridSearchCV"
   ]
  },
  {
   "cell_type": "code",
   "execution_count": 84,
   "id": "381b810f",
   "metadata": {
    "scrolled": false
   },
   "outputs": [
    {
     "data": {
      "image/png": "[encoded data removed]",
      "text/plain": [
       "<Figure size 432x288 with 2 Axes>"
      ]
     },
     "metadata": {
      "needs_background": "light"
     },
     "output_type": "display_data"
    },
    {
     "name": "stdout",
     "output_type": "stream",
     "text": [
      "              precision    recall  f1-score   support\n",
      "\n",
      "           0       0.99      1.00      0.99      2286\n",
      "           1       0.99      0.96      0.98       714\n",
      "\n",
      "    accuracy                           0.99      3000\n",
      "   macro avg       0.99      0.98      0.99      3000\n",
      "weighted avg       0.99      0.99      0.99      3000\n",
      "\n"
     ]
    }
   ],
   "source": [
    "GSV_pred = GSV.predict(X_test)\n",
    "GSV_confusion_matrix = metrics.confusion_matrix(y_test, GSV_pred)\n",
    "GSV_cm_display = metrics.ConfusionMatrixDisplay(confusion_matrix = GSV_confusion_matrix, display_labels = [False, True])\n",
    "\n",
    "GSV_cm_display.plot()\n",
    "plt.show()\n",
    "print(metrics.classification_report(y_test, GSV_pred))"
   ]
  },
  {
   "cell_type": "markdown",
   "id": "6922a321",
   "metadata": {},
   "source": [
    "Random Forest dengan GridSearch Memiliki nilai f1 score tertingi yaitu **98%**"
   ]
  },
  {
   "cell_type": "markdown",
   "id": "229812de",
   "metadata": {},
   "source": [
    "### Prediksi Real Data"
   ]
  },
  {
   "cell_type": "code",
   "execution_count": 85,
   "id": "a2ee970b",
   "metadata": {},
   "outputs": [
    {
     "data": {
      "text/html": [
       "<div>\n",
       "<style scoped>\n",
       "    .dataframe tbody tr th:only-of-type {\n",
       "        vertical-align: middle;\n",
       "    }\n",
       "\n",
       "    .dataframe tbody tr th {\n",
       "        vertical-align: top;\n",
       "    }\n",
       "\n",
       "    .dataframe thead th {\n",
       "        text-align: right;\n",
       "    }\n",
       "</style>\n",
       "<table border=\"1\" class=\"dataframe\">\n",
       "  <thead>\n",
       "    <tr style=\"text-align: right;\">\n",
       "      <th></th>\n",
       "      <th>y_true</th>\n",
       "      <th>KNN</th>\n",
       "      <th>SVM</th>\n",
       "      <th>RandomForest</th>\n",
       "      <th>GridSearch</th>\n",
       "    </tr>\n",
       "  </thead>\n",
       "  <tbody>\n",
       "    <tr>\n",
       "      <th>4278</th>\n",
       "      <td>0</td>\n",
       "      <td>0</td>\n",
       "      <td>0</td>\n",
       "      <td>0</td>\n",
       "      <td>0</td>\n",
       "    </tr>\n",
       "    <tr>\n",
       "      <th>244</th>\n",
       "      <td>1</td>\n",
       "      <td>1</td>\n",
       "      <td>1</td>\n",
       "      <td>0</td>\n",
       "      <td>1</td>\n",
       "    </tr>\n",
       "    <tr>\n",
       "      <th>10646</th>\n",
       "      <td>0</td>\n",
       "      <td>0</td>\n",
       "      <td>0</td>\n",
       "      <td>0</td>\n",
       "      <td>0</td>\n",
       "    </tr>\n",
       "    <tr>\n",
       "      <th>1818</th>\n",
       "      <td>1</td>\n",
       "      <td>1</td>\n",
       "      <td>1</td>\n",
       "      <td>0</td>\n",
       "      <td>1</td>\n",
       "    </tr>\n",
       "    <tr>\n",
       "      <th>2950</th>\n",
       "      <td>0</td>\n",
       "      <td>0</td>\n",
       "      <td>0</td>\n",
       "      <td>0</td>\n",
       "      <td>0</td>\n",
       "    </tr>\n",
       "    <tr>\n",
       "      <th>9241</th>\n",
       "      <td>0</td>\n",
       "      <td>0</td>\n",
       "      <td>0</td>\n",
       "      <td>0</td>\n",
       "      <td>0</td>\n",
       "    </tr>\n",
       "    <tr>\n",
       "      <th>1153</th>\n",
       "      <td>1</td>\n",
       "      <td>1</td>\n",
       "      <td>1</td>\n",
       "      <td>1</td>\n",
       "      <td>1</td>\n",
       "    </tr>\n",
       "    <tr>\n",
       "      <th>7535</th>\n",
       "      <td>0</td>\n",
       "      <td>0</td>\n",
       "      <td>0</td>\n",
       "      <td>0</td>\n",
       "      <td>0</td>\n",
       "    </tr>\n",
       "    <tr>\n",
       "      <th>13541</th>\n",
       "      <td>0</td>\n",
       "      <td>0</td>\n",
       "      <td>0</td>\n",
       "      <td>0</td>\n",
       "      <td>0</td>\n",
       "    </tr>\n",
       "    <tr>\n",
       "      <th>11167</th>\n",
       "      <td>0</td>\n",
       "      <td>0</td>\n",
       "      <td>0</td>\n",
       "      <td>0</td>\n",
       "      <td>0</td>\n",
       "    </tr>\n",
       "  </tbody>\n",
       "</table>\n",
       "</div>"
      ],
      "text/plain": [
       "       y_true  KNN  SVM  RandomForest  GridSearch\n",
       "4278        0    0    0             0           0\n",
       "244         1    1    1             0           1\n",
       "10646       0    0    0             0           0\n",
       "1818        1    1    1             0           1\n",
       "2950        0    0    0             0           0\n",
       "9241        0    0    0             0           0\n",
       "1153        1    1    1             1           1\n",
       "7535        0    0    0             0           0\n",
       "13541       0    0    0             0           0\n",
       "11167       0    0    0             0           0"
      ]
     },
     "execution_count": 85,
     "metadata": {},
     "output_type": "execute_result"
    }
   ],
   "source": [
    "prediksi = X_test.iloc[1000:1010].copy()\n",
    "pred_dict = {'y_true':y_test[1000:1010]}\n",
    "\n",
    "pred_dict['KNN'] = knn.predict(prediksi)\n",
    "pred_dict['SVM'] = svc.predict(prediksi)\n",
    "pred_dict['RandomForest'] = RF.predict(prediksi)\n",
    "pred_dict['GridSearch'] = GSV.predict(prediksi)\n",
    " \n",
    "pd.DataFrame(pred_dict)"
   ]
  },
  {
   "cell_type": "markdown",
   "id": "a972937f",
   "metadata": {},
   "source": [
    "Prediksi Real data menunjukan KNN, SVM, dan GridSearch memiliki prediksi yang bagus, sedangkan RandomForest dasar memiliki kekeliruan ketika memprediksi nilai True"
   ]
  },
  {
   "cell_type": "markdown",
   "id": "9793a572",
   "metadata": {},
   "source": [
    "## Feature Importance dengan Random Forest"
   ]
  },
  {
   "cell_type": "markdown",
   "id": "a846a40b",
   "metadata": {},
   "source": [
    "Setelah mendapatkan model terbaik, kita perlu mengetahui fitur apa yang sangat penting berpengaruh pada hasil, sekaligus untuk memberitahu bagian HR untuk menjaga nilai tersebut sehinga karyawan tidak pergi.\n",
    "\n",
    "Kembali dibuat randomforset dengan parameter terbaik pada GridSearch"
   ]
  },
  {
   "cell_type": "code",
   "execution_count": 38,
   "id": "8a483129",
   "metadata": {},
   "outputs": [
    {
     "data": {
      "text/plain": [
       "RandomForestClassifier(max_depth=30, n_jobs=-1, random_state=42)"
      ]
     },
     "execution_count": 38,
     "metadata": {},
     "output_type": "execute_result"
    }
   ],
   "source": [
    "RF_im = RandomForestClassifier(max_depth=30, min_samples_leaf=1, n_estimators=100, random_state=42, n_jobs=-1)\n",
    "RF_im.fit(X_train, y_train)"
   ]
  },
  {
   "cell_type": "code",
   "execution_count": 39,
   "id": "1f43edc8",
   "metadata": {},
   "outputs": [
    {
     "data": {
      "text/plain": [
       "<BarContainer object of 20 artists>"
      ]
     },
     "execution_count": 39,
     "metadata": {},
     "output_type": "execute_result"
    },
    {
     "data": {
      "image/png": "[encoded data removed]",
      "text/plain": [
       "<Figure size 1296x432 with 1 Axes>"
      ]
     },
     "metadata": {
      "needs_background": "light"
     },
     "output_type": "display_data"
    }
   ],
   "source": [
    "plt.figure(figsize=(18, 6))\n",
    "plt.barh(X_test.columns, RF_im.feature_importances_)"
   ]
  },
  {
   "cell_type": "markdown",
   "id": "7ff8c4c8",
   "metadata": {},
   "source": [
    "Dari data diketahui **satisfaction_level** lah nilai yang sangat mempengaruhi untuk pengunduran diri karyawan dimana hasil ini sesuai dengan EDA pada bagian sebelumnya. Sehingga HR perlu  menjaga kepuasaan setiap karyawannya. Selain itu banyaknya projek yang diterima, dan jumlah jam kerja setiap bulannya juga mempengaruhi"
   ]
  }
 ],
 "metadata": {
  "kernelspec": {
   "display_name": "Python [conda env:SCA] *",
   "language": "python",
   "name": "conda-env-SCA-py"
  },
  "language_info": {
   "codemirror_mode": {
    "name": "ipython",
    "version": 3
   },
   "file_extension": ".py",
   "mimetype": "text/x-python",
   "name": "python",
   "nbconvert_exporter": "python",
   "pygments_lexer": "ipython3",
   "version": "3.9.5"
  }
 },
 "nbformat": 4,
 "nbformat_minor": 5
}
